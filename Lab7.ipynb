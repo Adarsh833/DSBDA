{
 "cells": [
  {
   "cell_type": "code",
   "execution_count": 4,
   "id": "66dd014f-a1a9-499e-8311-ef02300be6f8",
   "metadata": {},
   "outputs": [],
   "source": [
    "import nltk\n",
    "from nltk import word_tokenize, sent_tokenize\n",
    "from nltk import pos_tag\n",
    "from nltk.corpus import stopwords\n",
    "from nltk.stem import PorterStemmer\n",
    "from nltk.stem import WordNetLemmatizer\n",
    "from sklearn.feature_extraction.text import TfidfVectorizer"
   ]
  },
  {
   "cell_type": "code",
   "execution_count": 5,
   "id": "9d086cbc-3ea7-4af0-8e86-57bf8bab6349",
   "metadata": {},
   "outputs": [
    {
     "name": "stderr",
     "output_type": "stream",
     "text": [
      "[nltk_data] Downloading package stopwords to\n",
      "[nltk_data]     C:\\Users\\hp\\AppData\\Roaming\\nltk_data...\n",
      "[nltk_data]   Unzipping corpora\\stopwords.zip.\n",
      "[nltk_data] Downloading package wordnet to\n",
      "[nltk_data]     C:\\Users\\hp\\AppData\\Roaming\\nltk_data...\n",
      "[nltk_data] Downloading package punkt to\n",
      "[nltk_data]     C:\\Users\\hp\\AppData\\Roaming\\nltk_data...\n",
      "[nltk_data]   Unzipping tokenizers\\punkt.zip.\n",
      "[nltk_data] Downloading package averaged_perceptron_tagger to\n",
      "[nltk_data]     C:\\Users\\hp\\AppData\\Roaming\\nltk_data...\n",
      "[nltk_data]   Unzipping taggers\\averaged_perceptron_tagger.zip.\n",
      "[nltk_data] Downloading package omw-1.4 to\n",
      "[nltk_data]     C:\\Users\\hp\\AppData\\Roaming\\nltk_data...\n"
     ]
    },
    {
     "data": {
      "text/plain": [
       "True"
      ]
     },
     "execution_count": 5,
     "metadata": {},
     "output_type": "execute_result"
    }
   ],
   "source": [
    "nltk.download(\"stopwords\")\n",
    "nltk.download(\"wordnet\")\n",
    "nltk.download(\"punkt\")\n",
    "nltk.download(\"averaged_perceptron_tagger\")\n",
    "nltk.download('omw-1.4')\n"
   ]
  },
  {
   "cell_type": "code",
   "execution_count": 6,
   "id": "2f7825b5-8b07-45fe-ab7e-9bb86ac2e8a8",
   "metadata": {},
   "outputs": [],
   "source": [
    "text = \"Lorem ipsum dolor sit amet, consectetur adipiscing elit. Fusce commodo mauris id justo condimentum dignissim. Nullam placerat semper dapibus. Pellentesque ac risus nulla. Phasellus ut dapibus nunc, id aliquam dolor.\"\n"
   ]
  },
  {
   "cell_type": "code",
   "execution_count": 7,
   "id": "2207b9a0-3fef-4b19-8fad-9a7452e514ce",
   "metadata": {},
   "outputs": [
    {
     "name": "stdout",
     "output_type": "stream",
     "text": [
      "['Lorem', 'ipsum', 'dolor', 'sit', 'amet', ',', 'consectetur', 'adipiscing', 'elit', '.', 'Fusce', 'commodo', 'mauris', 'id', 'justo', 'condimentum', 'dignissim', '.', 'Nullam', 'placerat', 'semper', 'dapibus', '.', 'Pellentesque', 'ac', 'risus', 'nulla', '.', 'Phasellus', 'ut', 'dapibus', 'nunc', ',', 'id', 'aliquam', 'dolor', '.']\n"
     ]
    }
   ],
   "source": [
    "print(word_tokenize(text))\n"
   ]
  },
  {
   "cell_type": "code",
   "execution_count": 8,
   "id": "805236fb-9800-48e1-9e54-ad3f6fd5d176",
   "metadata": {},
   "outputs": [
    {
     "name": "stdout",
     "output_type": "stream",
     "text": [
      "['Lorem ipsum dolor sit amet, consectetur adipiscing elit.', 'Fusce commodo mauris id justo condimentum dignissim.', 'Nullam placerat semper dapibus.', 'Pellentesque ac risus nulla.', 'Phasellus ut dapibus nunc, id aliquam dolor.']\n"
     ]
    }
   ],
   "source": [
    "\n",
    "print(sent_tokenize(text))\n"
   ]
  },
  {
   "cell_type": "code",
   "execution_count": 9,
   "id": "363d29c4-0e90-4271-b4dc-36b57a4bf3b9",
   "metadata": {},
   "outputs": [],
   "source": [
    "to_tag = word_tokenize(text)\n"
   ]
  },
  {
   "cell_type": "code",
   "execution_count": 10,
   "id": "bb519de3-d5af-4d44-8eba-4d11a40d17a7",
   "metadata": {},
   "outputs": [
    {
     "name": "stdout",
     "output_type": "stream",
     "text": [
      "[('Lorem', 'NNP'), ('ipsum', 'NN'), ('dolor', 'NN'), ('sit', 'NN'), ('amet', 'NN'), (',', ','), ('consectetur', 'NN'), ('adipiscing', 'VBG'), ('elit', 'NN'), ('.', '.'), ('Fusce', 'NNP'), ('commodo', 'JJ'), ('mauris', 'NN'), ('id', 'NN'), ('justo', 'NN'), ('condimentum', 'NN'), ('dignissim', 'NN'), ('.', '.'), ('Nullam', 'NNP'), ('placerat', 'VBZ'), ('semper', 'JJR'), ('dapibus', 'NN'), ('.', '.'), ('Pellentesque', 'NNP'), ('ac', 'JJ'), ('risus', 'NN'), ('nulla', 'NN'), ('.', '.'), ('Phasellus', 'CC'), ('ut', 'JJ'), ('dapibus', 'NN'), ('nunc', 'NN'), (',', ','), ('id', 'JJ'), ('aliquam', 'NN'), ('dolor', 'NN'), ('.', '.')]\n"
     ]
    }
   ],
   "source": [
    "print(pos_tag(to_tag))\n"
   ]
  },
  {
   "cell_type": "code",
   "execution_count": 11,
   "id": "58972d0d-5581-49ca-b877-e5f2dc158a34",
   "metadata": {},
   "outputs": [
    {
     "name": "stdout",
     "output_type": "stream",
     "text": [
      "{'myself', 'down', 'once', 'yours', \"aren't\", 'off', 'you', 'not', 're', 'doing', 'as', 'after', 'yourselves', 'm', 'yourself', 'herself', 'y', \"she's\", 'some', \"needn't\", 'had', 'our', 'which', 'of', \"you've\", \"hasn't\", \"isn't\", \"wasn't\", 'and', 'here', 'ours', 'have', 'hadn', 'same', \"won't\", 'so', 's', 'other', 'aren', \"shan't\", \"shouldn't\", \"haven't\", 'isn', 'then', \"it's\", 'these', 'out', 'shan', 'most', 'ain', 'him', 'couldn', 'those', 'them', 'he', 'nor', 't', 'how', 've', 'itself', 'has', 'her', 'won', \"don't\", 'my', 'above', 'more', 'or', 'only', 'don', 'o', 'below', 'too', 'very', 'all', 'hasn', 'there', \"that'll\", 'when', 'by', 'being', 'both', 'didn', 'before', \"hadn't\", 'the', 'why', 'during', 'in', \"wouldn't\", 'themselves', 'any', 'mightn', 'haven', 'theirs', 'their', 'into', 'again', 'whom', 'for', 'me', \"didn't\", 'over', 'are', 'to', 'having', 'himself', \"you'll\", 'on', 'did', 'that', 'with', 'shouldn', \"should've\", 'just', 'wouldn', 'no', 'than', 'wasn', 'now', 'its', 'about', 'does', 'be', 'do', 'they', 'this', 'an', \"doesn't\", 'under', \"you're\", 'against', 'was', 'should', 'we', 'a', 'his', \"mustn't\", 'it', 'ma', 'mustn', 'until', 'such', 'weren', 'what', 'she', 'if', 'ourselves', 'i', 'needn', 'who', 'can', 'through', 'up', 'doesn', 'll', \"couldn't\", \"you'd\", \"mightn't\", 'each', 'will', 'were', 'from', 'been', 'while', 'own', 'd', 'hers', 'at', 'few', 'is', 'but', 'further', \"weren't\", 'because', 'between', 'your', 'am', 'where'}\n"
     ]
    }
   ],
   "source": [
    "\n",
    "stop_words = set(stopwords.words(\"english\"))\n",
    "print(stop_words)"
   ]
  },
  {
   "cell_type": "code",
   "execution_count": null,
   "id": "d7eabdaf-7a27-40e5-926b-5894d9ea10ea",
   "metadata": {},
   "outputs": [],
   "source": []
  }
 ],
 "metadata": {
  "kernelspec": {
   "display_name": "Python 3 (ipykernel)",
   "language": "python",
   "name": "python3"
  },
  "language_info": {
   "codemirror_mode": {
    "name": "ipython",
    "version": 3
   },
   "file_extension": ".py",
   "mimetype": "text/x-python",
   "name": "python",
   "nbconvert_exporter": "python",
   "pygments_lexer": "ipython3",
   "version": "3.10.11"
  }
 },
 "nbformat": 4,
 "nbformat_minor": 5
}
